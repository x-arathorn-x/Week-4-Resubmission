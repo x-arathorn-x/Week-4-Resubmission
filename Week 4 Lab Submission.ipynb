{
 "cells": [
  {
   "cell_type": "markdown",
   "id": "61a7a50a",
   "metadata": {},
   "source": [
    "Below is my take on the flood filling function - testing 123"
   ]
  },
  {
   "cell_type": "code",
   "execution_count": 5,
   "id": "7cd57224",
   "metadata": {},
   "outputs": [
    {
     "name": "stdout",
     "output_type": "stream",
     "text": [
      "......##########......\n",
      "......#~~~~~~~~#......\n",
      "......#~~~~~~~~#......\n",
      "......#~~~~~~~~#####..\n",
      "....###~~~~~~~~~~~~#..\n",
      "....#~~~~~~~~~~~~###..\n",
      "....##############....\n"
     ]
    }
   ],
   "source": [
    "from typing import List\n",
    "\n",
    "board = [\n",
    "    \n",
    "    \"......##########......\",\n",
    "    \"......#........#......\",\n",
    "    \"......#........#......\",\n",
    "    \"......#........#####..\",\n",
    "    \"....###............#..\",\n",
    "    \"....#............###..\",\n",
    "    \"....##############....\",\n",
    "]\n",
    "\n",
    "positions_to_check = [\n",
    "    [-1,0], # left\n",
    "    [0,1], # top\n",
    "    [1,0], # right\n",
    "    [0,-1], # bottom\n",
    "]\n",
    "\n",
    "# for viewing printed iterations if needed,\n",
    "\n",
    "def represent_board(board):\n",
    "    for row in board:\n",
    "        print(row)      \n",
    "    print('------------------------')\n",
    "            \n",
    "            \n",
    "def flood_fill(input_board: List[str], old: str, new: str, x: int, y: int) -> List[str]:\n",
    "    \"\"\"Returns board with old values replaced with new values\n",
    "    through flood filling starting from the coordinates x, y\n",
    "    Args:\n",
    "        input_board (List[str])\n",
    "        old (str): Value to be replaced\n",
    "        new (str): Value that replaces the old\n",
    "        x (int): X-coordinate of the flood start point\n",
    "        y (int): Y-coordinate of the flood start point\n",
    "    Returns:\n",
    "        List[str]: Modified board\n",
    "    \"\"\"\n",
    "    #checking if index should be filled\n",
    "    # if input_board[x][y] == old:\n",
    "    #     input_board[x] = input_board[x][:y] + new + input_board[x][y+1:]\n",
    "    #     represent_board(input_board)\n",
    "            \n",
    "        \n",
    "    for position in positions_to_check:\n",
    "        new_x = x + position[0]\n",
    "        new_y = y + position[1]\n",
    "        # check if out of bounds\n",
    "        if new_x >= len(input_board) or new_x < 0:\n",
    "            continue\n",
    "            \n",
    "        if new_y >= len(input_board[new_x]) or new_y < 0:\n",
    "            continue\n",
    "            \n",
    "        # continue with the fill...\n",
    "        \n",
    "        if input_board[new_x][new_y] == old:\n",
    "             input_board[new_x] = input_board[new_x][:new_y] + new + input_board[new_x][new_y+1:]\n",
    "             #recursion case\n",
    "             flood_fill(input_board, old, new, new_x, new_y)\n",
    "        \n",
    "        \n",
    "        \n",
    "    return input_board\n",
    "    \n",
    "        \n",
    "\n",
    "modified_board = flood_fill(input_board=board, old=\".\", new=\"~\", x=5, y=12)\n",
    "\n",
    "for a in modified_board:\n",
    "    print(a)\n",
    "\n",
    "\n",
    "# Expected output:\n",
    "# ......................\n",
    "# ......##########......\n",
    "# ......#~~~~~~~~#......\n",
    "# ......#~~~~~~~~#......\n",
    "# ......#~~~~~~~~#####..\n",
    "# ....###~~~~~~~~~~~~#..\n",
    "# ....#~~~~~~~~~~~~###..\n",
    "# ....##############...."
   ]
  },
  {
   "cell_type": "code",
   "execution_count": null,
   "id": "ef5cce1b",
   "metadata": {},
   "outputs": [],
   "source": []
  }
 ],
 "metadata": {
  "kernelspec": {
   "display_name": "Python 3.9.5 64-bit",
   "language": "python",
   "name": "python3"
  },
  "language_info": {
   "codemirror_mode": {
    "name": "ipython",
    "version": 3
   },
   "file_extension": ".py",
   "mimetype": "text/x-python",
   "name": "python",
   "nbconvert_exporter": "python",
   "pygments_lexer": "ipython3",
   "version": "3.9.5"
  },
  "vscode": {
   "interpreter": {
    "hash": "aee8b7b246df8f9039afb4144a1f6fd8d2ca17a180786b69acc140d282b71a49"
   }
  }
 },
 "nbformat": 4,
 "nbformat_minor": 5
}
